{
  "cells": [
    {
      "cell_type": "code",
      "source": [
        "from google.colab import drive\n",
        "drive.mount('/content/drive')\n",
        "%cd /content/drive/MyDrive/auto-pian"
      ],
      "metadata": {
        "colab": {
          "base_uri": "https://localhost:8080/"
        },
        "id": "AVOCZjvKnHpj",
        "outputId": "3b6ab4b7-c320-4373-a4aa-39ca83b99aaa"
      },
      "id": "AVOCZjvKnHpj",
      "execution_count": 2,
      "outputs": [
        {
          "output_type": "stream",
          "name": "stdout",
          "text": [
            "Drive already mounted at /content/drive; to attempt to forcibly remount, call drive.mount(\"/content/drive\", force_remount=True).\n",
            "/content/drive/.shortcut-targets-by-id/1jn_llb-3OnamAo89wMXsdDKi__iyjswV/auto-pian\n"
          ]
        }
      ]
    },
    {
      "cell_type": "code",
      "execution_count": 3,
      "id": "b7c41472",
      "metadata": {
        "id": "b7c41472"
      },
      "outputs": [],
      "source": [
        "import torch\n",
        "import torch.nn as nn\n",
        "import pandas as pd\n",
        "import numpy as np\n",
        "import os"
      ]
    },
    {
      "cell_type": "code",
      "execution_count": 4,
      "id": "2d7b888e",
      "metadata": {
        "colab": {
          "base_uri": "https://localhost:8080/"
        },
        "id": "2d7b888e",
        "outputId": "7d76d257-f992-48c8-ce97-f9b5d0e6db75"
      },
      "outputs": [
        {
          "output_type": "stream",
          "name": "stdout",
          "text": [
            "117-1_fingering.txt\n",
            "   noteID  onset_time  offset_time spelled_pitch  onset_velocity  \\\n",
            "0       0     1.50000      1.66650            A4              62   \n",
            "1       1     1.50000      1.66650            A5              62   \n",
            "2       2     1.66650      1.83349           Bb4              62   \n",
            "3       3     1.66650      1.83349           Bb5              62   \n",
            "4       4     1.83349      2.00000            A4              62   \n",
            "5       5     1.83349      2.00000            A5              62   \n",
            "6       6     2.00000      2.66650           G#5              62   \n",
            "7       7     2.00000      3.49999           G#4              62   \n",
            "8       8     2.00000      2.16650            D2              62   \n",
            "9       9     2.16650      2.33349           Bb2              62   \n",
            "\n",
            "   offset_velocity  channel  finger_number  \n",
            "0               80        0              1  \n",
            "1               80        0              5  \n",
            "2               80        0              1  \n",
            "3               80        0              4  \n",
            "4               80        0              1  \n",
            "5               80        0              5  \n",
            "6               80        0              4  \n",
            "7               80        0              1  \n",
            "8               80        1             -5  \n",
            "9               80        1             -2  \n"
          ]
        }
      ],
      "source": [
        "directory_path = 'PianoFingeringDataset_v1.2/PianoFingeringDataset_v1.2/FingeringFiles/'\n",
        "\n",
        "# Loads in ONE big CONCATENATED dataset from ALL dataframes\n",
        "# my_dfs = []\n",
        "\n",
        "# for filename in os.listdir(directory_path):\n",
        "#     file_path = os.path.join(directory_path, filename)\n",
        "#     if os.path.isfile(file_path):\n",
        "#         df = pd.read_table(file_path, sep=\"\\t\", skiprows=1, names=[\"noteID\", \"onset_time\", \"offset_time\", \"spelled_pitch\", \"onset_velocity\", \"offset_velocity\", \"channel\", \"finger_number\"])\n",
        "#         my_dfs.append(df)\n",
        "# #         print(df)\n",
        "\n",
        "# big_df = pd.concat(my_dfs)\n",
        "# print(big_df)\n",
        "\n",
        "# load in just the fingering for 014-3: Mozart Piano Sonata K 330 in C major, 2nd mov.\n",
        "for filename in os.listdir(directory_path):\n",
        "    file_path = os.path.join(directory_path, filename)\n",
        "    if os.path.isfile(file_path) and filename == os.listdir(directory_path)[0]:\n",
        "        df = pd.read_table(file_path, sep=\"\\t\", skiprows=1, names=[\"noteID\", \"onset_time\", \"offset_time\", \"spelled_pitch\", \"onset_velocity\", \"offset_velocity\", \"channel\", \"finger_number\"])\n",
        "        print(filename)\n",
        "        print(df.head(10))\n",
        "\n"
      ]
    },
    {
      "cell_type": "code",
      "execution_count": 5,
      "id": "caef95f6",
      "metadata": {
        "colab": {
          "base_uri": "https://localhost:8080/",
          "height": 335
        },
        "id": "caef95f6",
        "outputId": "2f6a88af-ac9c-4a33-ef9c-bb5e7af8a2d0"
      },
      "outputs": [
        {
          "output_type": "execute_result",
          "data": {
            "text/plain": [
              "noteID             0\n",
              "onset_time         0\n",
              "offset_time        0\n",
              "spelled_pitch      0\n",
              "onset_velocity     0\n",
              "offset_velocity    0\n",
              "channel            0\n",
              "finger_number      0\n",
              "dtype: int64"
            ],
            "text/html": [
              "<div>\n",
              "<style scoped>\n",
              "    .dataframe tbody tr th:only-of-type {\n",
              "        vertical-align: middle;\n",
              "    }\n",
              "\n",
              "    .dataframe tbody tr th {\n",
              "        vertical-align: top;\n",
              "    }\n",
              "\n",
              "    .dataframe thead th {\n",
              "        text-align: right;\n",
              "    }\n",
              "</style>\n",
              "<table border=\"1\" class=\"dataframe\">\n",
              "  <thead>\n",
              "    <tr style=\"text-align: right;\">\n",
              "      <th></th>\n",
              "      <th>0</th>\n",
              "    </tr>\n",
              "  </thead>\n",
              "  <tbody>\n",
              "    <tr>\n",
              "      <th>noteID</th>\n",
              "      <td>0</td>\n",
              "    </tr>\n",
              "    <tr>\n",
              "      <th>onset_time</th>\n",
              "      <td>0</td>\n",
              "    </tr>\n",
              "    <tr>\n",
              "      <th>offset_time</th>\n",
              "      <td>0</td>\n",
              "    </tr>\n",
              "    <tr>\n",
              "      <th>spelled_pitch</th>\n",
              "      <td>0</td>\n",
              "    </tr>\n",
              "    <tr>\n",
              "      <th>onset_velocity</th>\n",
              "      <td>0</td>\n",
              "    </tr>\n",
              "    <tr>\n",
              "      <th>offset_velocity</th>\n",
              "      <td>0</td>\n",
              "    </tr>\n",
              "    <tr>\n",
              "      <th>channel</th>\n",
              "      <td>0</td>\n",
              "    </tr>\n",
              "    <tr>\n",
              "      <th>finger_number</th>\n",
              "      <td>0</td>\n",
              "    </tr>\n",
              "  </tbody>\n",
              "</table>\n",
              "</div><br><label><b>dtype:</b> int64</label>"
            ]
          },
          "metadata": {},
          "execution_count": 5
        }
      ],
      "source": [
        "df.isna().sum()"
      ]
    },
    {
      "cell_type": "markdown",
      "id": "a27ee2a7",
      "metadata": {
        "id": "a27ee2a7"
      },
      "source": [
        "# Idea 1: simple linear regression to predict finger_number"
      ]
    },
    {
      "cell_type": "code",
      "execution_count": 6,
      "id": "10eeea16",
      "metadata": {
        "colab": {
          "base_uri": "https://localhost:8080/"
        },
        "id": "10eeea16",
        "outputId": "ec167dee-3da8-4a4f-f3a7-dca905d90e39"
      },
      "outputs": [
        {
          "output_type": "stream",
          "name": "stdout",
          "text": [
            "{'A1': 0, 'A2': 1, 'A3': 2, 'A4': 3, 'A5': 4, 'A6': 5, 'B1': 6, 'B2': 7, 'B3': 8, 'B4': 9, 'B5': 10, 'B6': 11, 'Bb1': 12, 'Bb2': 13, 'Bb3': 14, 'Bb4': 15, 'Bb5': 16, 'Bb6': 17, 'C#1': 18, 'C#2': 19, 'C#3': 20, 'C#4': 21, 'C#5': 22, 'C#6': 23, 'C#7': 24, 'C1': 25, 'C2': 26, 'C3': 27, 'C4': 28, 'C5': 29, 'C6': 30, 'C7': 31, 'D1': 32, 'D2': 33, 'D3': 34, 'D4': 35, 'D5': 36, 'D6': 37, 'D7': 38, 'E1': 39, 'E2': 40, 'E3': 41, 'E4': 42, 'E5': 43, 'E6': 44, 'E7': 45, 'Eb1': 46, 'Eb2': 47, 'Eb3': 48, 'Eb4': 49, 'Eb5': 50, 'Eb6': 51, 'Eb7': 52, 'F#1': 53, 'F#2': 54, 'F#3': 55, 'F#4': 56, 'F#5': 57, 'F#6': 58, 'F#7': 59, 'F1': 60, 'F2': 61, 'F3': 62, 'F4': 63, 'F5': 64, 'F6': 65, 'F7': 66, 'G#1': 67, 'G#2': 68, 'G#3': 69, 'G#4': 70, 'G#5': 71, 'G#6': 72, 'G1': 73, 'G2': 74, 'G3': 75, 'G4': 76, 'G5': 77, 'G6': 78}\n"
          ]
        }
      ],
      "source": [
        "spelled_pitch_values = set()\n",
        "\n",
        "for filename in os.listdir(directory_path):\n",
        "    file_path = os.path.join(directory_path, filename)\n",
        "    if os.path.isfile(file_path):\n",
        "        df = pd.read_table(file_path, sep=\"\\t\", skiprows=1, names=[\"noteID\", \"onset_time\", \"offset_time\", \"spelled_pitch\", \"onset_velocity\", \"offset_velocity\", \"channel\", \"finger_number\"])\n",
        "        spelled_pitch_values.update(df['spelled_pitch'].unique())\n",
        "\n",
        "\n",
        "\n",
        "# convert \"spelled pitch\" field to a number: create the mapping in the first place\n",
        "spelled_pitch_values = sorted(spelled_pitch_values)\n",
        "\n",
        "pitch_to_int_mapping = {p:i for i, p in enumerate(spelled_pitch_values)}\n",
        "\n",
        "# print(len(spelled_pitch_values))\n",
        "# print(len(pitch_to_int_mapping))\n",
        "print(pitch_to_int_mapping)"
      ]
    },
    {
      "cell_type": "code",
      "execution_count": 7,
      "id": "d8552f68",
      "metadata": {
        "colab": {
          "base_uri": "https://localhost:8080/"
        },
        "id": "d8552f68",
        "outputId": "e26a3c0d-aa57-4966-c8ad-15e05950953d"
      },
      "outputs": [
        {
          "output_type": "stream",
          "name": "stdout",
          "text": [
            "x's shape is torch.Size([293, 7])\n",
            "y's shape is torch.Size([293, 1])\n"
          ]
        }
      ],
      "source": [
        "for filename in os.listdir(directory_path):\n",
        "    file_path = os.path.join(directory_path, filename)\n",
        "    if os.path.isfile(file_path) and filename == os.listdir(directory_path)[0]:\n",
        "        df = pd.read_table(file_path, sep=\"\\t\", skiprows=1, names=[\"noteID\", \"onset_time\", \"offset_time\", \"spelled_pitch\", \"onset_velocity\", \"offset_velocity\", \"channel\", \"finger_number\"])\n",
        "\n",
        "num_data, num_features = df.shape\n",
        "x = df.iloc[:, 0:num_features - 1]\n",
        "y = df.iloc[:, num_features - 1]\n",
        "\n",
        "\n",
        "# convert \"spelled pitch\" field to a number\n",
        "x['spelled_pitch'] = x['spelled_pitch'].map(pitch_to_int_mapping)\n",
        "\n",
        "\n",
        "x = torch.tensor(x.values.tolist(), dtype=torch.float32)\n",
        "y = torch.tensor(y.values.astype(float).tolist())\n",
        "y = y.unsqueeze(1)   # conver from size [289] to size [289, 1]\n",
        "\n",
        "print(f\"x's shape is {x.shape}\")\n",
        "print(f\"y's shape is {y.shape}\")"
      ]
    },
    {
      "cell_type": "code",
      "execution_count": 8,
      "id": "264b9991",
      "metadata": {
        "colab": {
          "base_uri": "https://localhost:8080/"
        },
        "id": "264b9991",
        "outputId": "d7f94e20-fbe3-4418-ca60-1235d7b85d01"
      },
      "outputs": [
        {
          "output_type": "stream",
          "name": "stdout",
          "text": [
            "num features is 8 and num data is 293\n"
          ]
        }
      ],
      "source": [
        "print(f\"num features is {num_features} and num data is {num_data}\")"
      ]
    },
    {
      "cell_type": "code",
      "execution_count": null,
      "id": "e3ebc98b",
      "metadata": {
        "id": "e3ebc98b"
      },
      "outputs": [],
      "source": [
        "# Pytorch code that does the same least squares fitting, but nn.Module-ized. Iterative regression\n",
        "\n",
        "class LinearRegressionBaseline(nn.Module):\n",
        "    def __init__(self, input_dims, output_dims):\n",
        "        super(LinearRegressionBaseline, self).__init__()\n",
        "        self.linear = nn.Linear(input_dims, output_dims)\n",
        "\n",
        "    def forward(self, x):\n",
        "        return self.linear(x)"
      ]
    },
    {
      "cell_type": "code",
      "execution_count": null,
      "id": "8dc5b8b6",
      "metadata": {
        "colab": {
          "base_uri": "https://localhost:8080/"
        },
        "id": "8dc5b8b6",
        "outputId": "caa3e8d9-5c1f-4c76-a1cc-982316b17227"
      },
      "outputs": [
        {
          "name": "stdout",
          "output_type": "stream",
          "text": [
            "torch.Size([289, 7])\n",
            "torch.Size([289, 1])\n",
            "torch.Size([289, 1])\n"
          ]
        }
      ],
      "source": [
        "my_linear_model = LinearRegressionBaseline(num_features - 1, 1)\n",
        "\n",
        "criterion = nn.MSELoss()\n",
        "optimizer = torch.optim.Adam(my_linear_model.parameters(), lr=1e-2)    # Needs a VERY small learning rate, else NaN.\n",
        "\n",
        "\n",
        "# normalize inputs before feeding to model\n",
        "x = (x - x.mean()) / x.std()\n",
        "y = (y - y.mean()) / y.std()\n",
        "\n",
        "\n",
        "print(x.shape)\n",
        "print(y.shape)\n",
        "print(my_linear_model(x).shape)\n"
      ]
    },
    {
      "cell_type": "code",
      "execution_count": null,
      "id": "acc6809c",
      "metadata": {
        "colab": {
          "base_uri": "https://localhost:8080/"
        },
        "id": "acc6809c",
        "outputId": "f62ee54e-582d-47f1-a781-cf712b9ff203"
      },
      "outputs": [
        {
          "name": "stdout",
          "output_type": "stream",
          "text": [
            "Epoch [5000/5000], Loss: 0.7200\n"
          ]
        }
      ],
      "source": [
        "\n",
        "epochs = 5000\n",
        "for epoch in range(epochs):\n",
        "    # Forward pass\n",
        "    y_pred = my_linear_model(x)\n",
        "    loss = criterion(y_pred, y)\n",
        "#     print(x.shape)\n",
        "#     print(y.shape)\n",
        "#     print(y_pred)\n",
        "\n",
        "    # Backward pass and optimization\n",
        "    optimizer.zero_grad()\n",
        "    loss.backward()\n",
        "    optimizer.step()\n",
        "\n",
        "    if (epoch + 1) % 5000 == 0:\n",
        "        print(f'Epoch [{epoch + 1}/{epochs}], Loss: {loss.item():.4f}')"
      ]
    },
    {
      "cell_type": "code",
      "execution_count": null,
      "id": "91667def",
      "metadata": {
        "colab": {
          "base_uri": "https://localhost:8080/"
        },
        "id": "91667def",
        "outputId": "455309af-228b-4e7e-fbe5-2e6aca052fd5"
      },
      "outputs": [
        {
          "name": "stdout",
          "output_type": "stream",
          "text": [
            "Test Results:\n",
            "Test Loss: 0.7199\n",
            "Sample Predictions:\n",
            "Predicted: [0.2364006], Actual: [0.8806283]\n",
            "Predicted: [0.0821104], Actual: [0.54707444]\n",
            "Predicted: [0.09154606], Actual: [0.8806283]\n",
            "Predicted: [0.3571701], Actual: [0.54707444]\n",
            "Predicted: [-0.57786465], Actual: [-1.7878023]\n"
          ]
        }
      ],
      "source": [
        "# Check on testing set\n",
        "\n",
        "x_test = x\n",
        "y_test = y\n",
        "\n",
        "\n",
        "\n",
        "\n",
        "# Ensure your model is in evaluation mode\n",
        "my_linear_model.eval()\n",
        "\n",
        "# Disable gradient computation for evaluation\n",
        "with torch.no_grad():\n",
        "    # Forward pass: Predict on the test set\n",
        "    y_test_pred = my_linear_model(x_test)\n",
        "\n",
        "    # Calculate the loss on the test set\n",
        "    test_loss = criterion(y_test_pred, y_test)\n",
        "\n",
        "    # Optional: Convert predictions to numpy for further analysis if needed\n",
        "    y_test_pred_np = y_test_pred.cpu().numpy() if y_test_pred.is_cuda else y_test_pred.numpy()\n",
        "    y_test_np = y_test.cpu().numpy() if y_test.is_cuda else y_test.numpy()\n",
        "\n",
        "# Print the results\n",
        "print(\"Test Results:\")\n",
        "print(f\"Test Loss: {test_loss.item():.4f}\")\n",
        "print(\"Sample Predictions:\")\n",
        "for i in range(min(5, len(y_test_pred))):  # Display up to 5 predictions\n",
        "    print(f\"Predicted: {y_test_pred_np[i]}, Actual: {y_test_np[i]}\")"
      ]
    },
    {
      "cell_type": "code",
      "execution_count": null,
      "id": "309a6e06",
      "metadata": {
        "colab": {
          "base_uri": "https://localhost:8080/"
        },
        "id": "309a6e06",
        "outputId": "97ac338c-59e2-4c1e-843a-8b24267e8355"
      },
      "outputs": [
        {
          "name": "stdout",
          "output_type": "stream",
          "text": [
            "(289, 7)\n",
            "(289,)\n",
            "Weights (Scikit-Learn): [-9.9855537e+01  6.3732588e-01  1.2104809e-01 -3.0192924e+00\n",
            "  2.3201710e-02  2.7132304e+00  2.4308480e-09 -9.6365234e+01]\n",
            "Test Loss (Scikit-Learn): 0.16213986\n"
          ]
        }
      ],
      "source": [
        "# Compare with Scikit Normal Equation Result\n",
        "\n",
        "import numpy as np\n",
        "from sklearn.linear_model import LinearRegression\n",
        "import torch\n",
        "\n",
        "# Assuming x and y are your training tensors\n",
        "x_np = x.numpy() if isinstance(x, torch.Tensor) else x\n",
        "y_np = y.numpy() if isinstance(y, torch.Tensor) else y\n",
        "y_np = y_np.reshape(-1)\n",
        "\n",
        "print(x_np.shape)\n",
        "print(y_np.shape)\n",
        "\n",
        "\n",
        "# Validate with Scikit-Learn\n",
        "lr = LinearRegression(fit_intercept=True)\n",
        "lr.fit(x_np, y_np)\n",
        "\n",
        "# Print Scikit-Learn weights for comparison\n",
        "print(\"Weights (Scikit-Learn):\", np.hstack([lr.intercept_, lr.coef_]))\n",
        "\n",
        "\n",
        "x_test_np = x_np\n",
        "y_test_np = y_np\n",
        "\n",
        "# Predict on the test set\n",
        "y_test_pred = lr.predict(x_test_np)\n",
        "\n",
        "# Compute Mean Squared Error (MSE) loss\n",
        "test_loss = np.mean((y_test_pred - y_test_np) ** 2)\n",
        "\n",
        "# Print the loss\n",
        "print(\"Test Loss (Scikit-Learn):\", test_loss)    # About the same loss: 0.53!"
      ]
    },
    {
      "cell_type": "markdown",
      "id": "bad1572f",
      "metadata": {
        "id": "bad1572f"
      },
      "source": [
        "# Idea 2: Add more layers"
      ]
    },
    {
      "cell_type": "code",
      "execution_count": null,
      "id": "1104c6b9",
      "metadata": {
        "id": "1104c6b9"
      },
      "outputs": [],
      "source": [
        "# deep neural net with more layers\n",
        "\n",
        "class DeepNeuralNet(nn.Module):\n",
        "    def __init__(self, input_dims, output_dims):\n",
        "        super(DeepNeuralNet, self).__init__()\n",
        "        self.mlp_layer = nn.Sequential(\n",
        "            nn.Linear(input_dims, 4 * input_dims),\n",
        "            nn.ReLU(),\n",
        "            nn.Linear(4 * input_dims, output_dims),\n",
        "        )\n",
        "\n",
        "\n",
        "    def forward(self, x):\n",
        "        return self.mlp_layer(x)"
      ]
    },
    {
      "cell_type": "code",
      "execution_count": null,
      "id": "e4971d1f",
      "metadata": {
        "colab": {
          "base_uri": "https://localhost:8080/",
          "height": 443
        },
        "id": "e4971d1f",
        "outputId": "597a756a-c419-4d68-e98e-da02e4012e42"
      },
      "outputs": [
        {
          "name": "stdout",
          "output_type": "stream",
          "text": [
            "torch.Size([289, 7])\n",
            "torch.Size([289, 1])\n",
            "torch.Size([289, 1])\n"
          ]
        }
      ],
      "source": [
        "dnn_model = DeepNeuralNet(num_features - 1, 1)\n",
        "\n",
        "criterion = nn.MSELoss()\n",
        "optimizer = torch.optim.Adam(dnn_model.parameters(), lr=1e-2)    # Needs a VERY small learning rate, else NaN.\n",
        "\n",
        "\n",
        "# normalize inputs before feeding to model\n",
        "x = (x - x.mean()) / x.std()\n",
        "y = (y - y.mean()) / y.std()\n",
        "\n",
        "\n",
        "print(x.shape)\n",
        "print(y.shape)\n",
        "print(dnn_model(x).shape)\n",
        "\n",
        "\n",
        "# Adding more layers helps a lot!\n",
        "\n",
        "epochs = 1000\n",
        "for epoch in range(epochs):\n",
        "    # Forward pass\n",
        "    y_pred = dnn_model(x)\n",
        "    loss = criterion(y_pred, y)\n",
        "#     print(x.shape)\n",
        "#     print(y.shape)\n",
        "#     print(y_pred)\n",
        "\n",
        "    # Backward pass and optimization\n",
        "    optimizer.zero_grad()\n",
        "    loss.backward()\n",
        "    optimizer.step()\n",
        "\n",
        "    if (epoch + 1) % 5000 == 0:\n",
        "        print(f'Epoch [{epoch + 1}/{epochs}], Loss: {loss.item():.4f}')"
      ]
    },
    {
      "cell_type": "markdown",
      "id": "44042739",
      "metadata": {
        "id": "44042739"
      },
      "source": [
        "# Testing code\n",
        "\n",
        "Testing on some random other piece"
      ]
    },
    {
      "cell_type": "code",
      "execution_count": null,
      "id": "1db253f1",
      "metadata": {
        "colab": {
          "base_uri": "https://localhost:8080/",
          "height": 426
        },
        "id": "1db253f1",
        "outputId": "eefaaab9-709b-4caa-87bc-c650e6c91205"
      },
      "outputs": [
        {
          "name": "stdout",
          "output_type": "stream",
          "text": [
            "026-5_fingering.txt\n"
          ]
        }
      ],
      "source": [
        "for filename in os.listdir(directory_path):\n",
        "    file_path = os.path.join(directory_path, filename)\n",
        "    if os.path.isfile(file_path) and filename == os.listdir(directory_path)[1]:\n",
        "        test_df = pd.read_table(file_path, sep=\"\\t\", skiprows=1, names=[\"noteID\", \"onset_time\", \"offset_time\", \"spelled_pitch\", \"onset_velocity\", \"offset_velocity\", \"channel\", \"finger_number\"])\n",
        "        print(filename)\n",
        "\n",
        "x_test = test_df.iloc[:, 0:num_features - 1]\n",
        "y_test = test_df.iloc[:, num_features - 1]\n",
        "\n",
        "x_test['spelled_pitch'] = x_test['spelled_pitch'].map(pitch_to_int_mapping)\n",
        "\n",
        "\n",
        "# print(x_test)\n",
        "\n",
        "# NORMALIZE FIRST\n",
        "# Normalize x_test\n",
        "for col in x_test.columns:\n",
        "    std = x_test[col].std()\n",
        "    if std == 0:  # Check if all values are the same\n",
        "        x_test[col] = 0  # Assign all entries in this column to 0\n",
        "    else:\n",
        "        x_test[col] = (x_test[col] - x_test[col].mean()) / std\n",
        "\n",
        "# Normalize y_test\n",
        "y_test_std = y_test.std()\n",
        "if y_test_std == 0:  # Check if all values are the same\n",
        "    y_test = 0  # Assign all entries in y_test to 0\n",
        "else:\n",
        "    y_test = (y_test - y_test.mean()) / y_test_std\n",
        "\n",
        "\n",
        "\n",
        "x_test = torch.tensor(x_test.values.tolist(), dtype=torch.float32)\n",
        "y_test = torch.tensor(y_test.values.astype(float).tolist())\n",
        "y_test = y_test.unsqueeze(1)   # conver from size [289] to size [289, 1]\n",
        "\n",
        "\n",
        "# print(y_test)\n",
        "\n",
        "\n",
        "# print(x_test.isna().sum())\n",
        "# print(y_test.shape)"
      ]
    },
    {
      "cell_type": "code",
      "execution_count": null,
      "id": "0c09892c",
      "metadata": {
        "colab": {
          "base_uri": "https://localhost:8080/",
          "height": 356
        },
        "id": "0c09892c",
        "outputId": "8022c499-72d4-44cb-8e59-27b2d8573157"
      },
      "outputs": [
        {
          "name": "stdout",
          "output_type": "stream",
          "text": [
            "Test Results:\n",
            "Test Loss: 997.6591\n",
            "Sample Predictions:\n",
            "Predicted: [-6.156381], Actual: [0.29965785]\n",
            "Predicted: [-5.7688727], Actual: [0.6164696]\n",
            "Predicted: [-6.2006125], Actual: [1.566905]\n",
            "Predicted: [-62.680935], Actual: [-1.6012129]\n",
            "Predicted: [-62.60875], Actual: [-0.33396572]\n"
          ]
        }
      ],
      "source": [
        "\n",
        "# Check on testing set\n",
        "\n",
        "# x_test = x\n",
        "# y_test = y\n",
        "\n",
        "# print(x_test)\n",
        "# print(y_test)\n",
        "\n",
        "\n",
        "# Ensure your model is in evaluation mode\n",
        "dnn_model.eval()\n",
        "\n",
        "# Disable gradient computation for evaluation\n",
        "with torch.no_grad():\n",
        "    # Forward pass: Predict on the test set\n",
        "    y_test_pred = dnn_model(x_test)\n",
        "\n",
        "    # Calculate the loss on the test set\n",
        "    test_loss = criterion(y_test_pred, y_test)\n",
        "\n",
        "    # Optional: Convert predictions to numpy for further analysis if needed\n",
        "    y_test_pred_np = y_test_pred.cpu().numpy() if y_test_pred.is_cuda else y_test_pred.numpy()\n",
        "    y_test_np = y_test.cpu().numpy() if y_test.is_cuda else y_test.numpy()\n",
        "\n",
        "# Print the results\n",
        "print(\"Test Results:\")\n",
        "print(f\"Test Loss: {test_loss.item():.4f}\")\n",
        "print(\"Sample Predictions:\")\n",
        "for i in range(min(5, len(y_test_pred))):  # Display up to 5 predictions\n",
        "    print(f\"Predicted: {y_test_pred_np[i]}, Actual: {y_test_np[i]}\")"
      ]
    },
    {
      "cell_type": "markdown",
      "source": [
        "# Testing the reward model from the chinese rl paper"
      ],
      "metadata": {
        "id": "y8XodwS-6cus"
      },
      "id": "y8XodwS-6cus"
    },
    {
      "cell_type": "code",
      "source": [
        "from reward import PianoFingeringModel, Hand, Finger, Note, NoteFingerPair\n",
        "reward_model = PianoFingeringModel()\n",
        "# [NEED TO ADD CODE HERE]"
      ],
      "metadata": {
        "id": "Xi3pTRHI6cJL"
      },
      "id": "Xi3pTRHI6cJL",
      "execution_count": null,
      "outputs": []
    },
    {
      "cell_type": "code",
      "execution_count": null,
      "id": "2b67f2bd",
      "metadata": {
        "id": "2b67f2bd"
      },
      "outputs": [],
      "source": []
    },
    {
      "cell_type": "code",
      "execution_count": null,
      "id": "78766c61",
      "metadata": {
        "id": "78766c61"
      },
      "outputs": [],
      "source": []
    },
    {
      "cell_type": "code",
      "execution_count": null,
      "id": "73b48a05",
      "metadata": {
        "id": "73b48a05"
      },
      "outputs": [],
      "source": []
    },
    {
      "cell_type": "code",
      "execution_count": null,
      "id": "91ed0aa4",
      "metadata": {
        "id": "91ed0aa4"
      },
      "outputs": [],
      "source": []
    },
    {
      "cell_type": "code",
      "execution_count": null,
      "id": "21e7f5a6",
      "metadata": {
        "id": "21e7f5a6"
      },
      "outputs": [],
      "source": []
    },
    {
      "cell_type": "code",
      "execution_count": null,
      "id": "c4e53439",
      "metadata": {
        "id": "c4e53439"
      },
      "outputs": [],
      "source": []
    }
  ],
  "metadata": {
    "colab": {
      "provenance": []
    },
    "kernelspec": {
      "display_name": "Python (smol)",
      "language": "python",
      "name": "smol"
    },
    "language_info": {
      "codemirror_mode": {
        "name": "ipython",
        "version": 3
      },
      "file_extension": ".py",
      "mimetype": "text/x-python",
      "name": "python",
      "nbconvert_exporter": "python",
      "pygments_lexer": "ipython3",
      "version": "3.12.3"
    }
  },
  "nbformat": 4,
  "nbformat_minor": 5
}