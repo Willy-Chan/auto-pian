{
  "cells": [
    {
      "cell_type": "code",
      "source": [
        "from google.colab import drive\n",
        "drive.mount('/content/drive')\n",
        "%cd /content/drive/MyDrive/auto-pian"
      ],
      "metadata": {
        "colab": {
          "base_uri": "https://localhost:8080/"
        },
        "id": "AVOCZjvKnHpj",
        "outputId": "968bcf22-2d86-411d-be16-ee2e5a9ee444"
      },
      "id": "AVOCZjvKnHpj",
      "execution_count": 1,
      "outputs": [
        {
          "output_type": "stream",
          "name": "stdout",
          "text": [
            "Mounted at /content/drive\n",
            "/content/drive/.shortcut-targets-by-id/1jn_llb-3OnamAo89wMXsdDKi__iyjswV/auto-pian\n"
          ]
        }
      ]
    },
    {
      "cell_type": "code",
      "execution_count": 2,
      "id": "b7c41472",
      "metadata": {
        "id": "b7c41472"
      },
      "outputs": [],
      "source": [
        "import torch\n",
        "import torch.nn as nn\n",
        "import pandas as pd\n",
        "import numpy as np\n",
        "import os"
      ]
    },
    {
      "cell_type": "code",
      "execution_count": 3,
      "id": "2d7b888e",
      "metadata": {
        "colab": {
          "base_uri": "https://localhost:8080/"
        },
        "id": "2d7b888e",
        "outputId": "2acc40a0-78d1-4b31-d549-3eecd811aad2"
      },
      "outputs": [
        {
          "output_type": "stream",
          "name": "stdout",
          "text": [
            "117-1_fingering.txt\n",
            "   noteID  onset_time  offset_time spelled_pitch  onset_velocity  \\\n",
            "0       0     1.50000      1.66650            A4              62   \n",
            "1       1     1.50000      1.66650            A5              62   \n",
            "2       2     1.66650      1.83349           Bb4              62   \n",
            "3       3     1.66650      1.83349           Bb5              62   \n",
            "4       4     1.83349      2.00000            A4              62   \n",
            "5       5     1.83349      2.00000            A5              62   \n",
            "6       6     2.00000      2.66650           G#5              62   \n",
            "7       7     2.00000      3.49999           G#4              62   \n",
            "8       8     2.00000      2.16650            D2              62   \n",
            "9       9     2.16650      2.33349           Bb2              62   \n",
            "\n",
            "   offset_velocity  channel  finger_number  \n",
            "0               80        0              1  \n",
            "1               80        0              5  \n",
            "2               80        0              1  \n",
            "3               80        0              4  \n",
            "4               80        0              1  \n",
            "5               80        0              5  \n",
            "6               80        0              4  \n",
            "7               80        0              1  \n",
            "8               80        1             -5  \n",
            "9               80        1             -2  \n"
          ]
        }
      ],
      "source": [
        "directory_path = 'PianoFingeringDataset_v1.2/PianoFingeringDataset_v1.2/FingeringFiles/'\n",
        "\n",
        "# Loads in ONE big CONCATENATED dataset from ALL dataframes\n",
        "# my_dfs = []\n",
        "\n",
        "# for filename in os.listdir(directory_path):\n",
        "#     file_path = os.path.join(directory_path, filename)\n",
        "#     if os.path.isfile(file_path):\n",
        "#         df = pd.read_table(file_path, sep=\"\\t\", skiprows=1, names=[\"noteID\", \"onset_time\", \"offset_time\", \"spelled_pitch\", \"onset_velocity\", \"offset_velocity\", \"channel\", \"finger_number\"])\n",
        "#         my_dfs.append(df)\n",
        "# #         print(df)\n",
        "\n",
        "# big_df = pd.concat(my_dfs)\n",
        "# print(big_df)\n",
        "\n",
        "# load in just the fingering for 014-3: Mozart Piano Sonata K 330 in C major, 2nd mov.\n",
        "for filename in os.listdir(directory_path):\n",
        "    file_path = os.path.join(directory_path, filename)\n",
        "    if os.path.isfile(file_path) and filename == os.listdir(directory_path)[0]:\n",
        "        df = pd.read_table(file_path, sep=\"\\t\", skiprows=1, names=[\"noteID\", \"onset_time\", \"offset_time\", \"spelled_pitch\", \"onset_velocity\", \"offset_velocity\", \"channel\", \"finger_number\"])\n",
        "        print(filename)\n",
        "        print(df.head(10))\n",
        "\n"
      ]
    },
    {
      "cell_type": "code",
      "execution_count": 4,
      "id": "caef95f6",
      "metadata": {
        "colab": {
          "base_uri": "https://localhost:8080/",
          "height": 335
        },
        "id": "caef95f6",
        "outputId": "edcd8106-faf5-470a-c72e-491fb1ae0ec4"
      },
      "outputs": [
        {
          "output_type": "execute_result",
          "data": {
            "text/plain": [
              "noteID             0\n",
              "onset_time         0\n",
              "offset_time        0\n",
              "spelled_pitch      0\n",
              "onset_velocity     0\n",
              "offset_velocity    0\n",
              "channel            0\n",
              "finger_number      0\n",
              "dtype: int64"
            ],
            "text/html": [
              "<div>\n",
              "<style scoped>\n",
              "    .dataframe tbody tr th:only-of-type {\n",
              "        vertical-align: middle;\n",
              "    }\n",
              "\n",
              "    .dataframe tbody tr th {\n",
              "        vertical-align: top;\n",
              "    }\n",
              "\n",
              "    .dataframe thead th {\n",
              "        text-align: right;\n",
              "    }\n",
              "</style>\n",
              "<table border=\"1\" class=\"dataframe\">\n",
              "  <thead>\n",
              "    <tr style=\"text-align: right;\">\n",
              "      <th></th>\n",
              "      <th>0</th>\n",
              "    </tr>\n",
              "  </thead>\n",
              "  <tbody>\n",
              "    <tr>\n",
              "      <th>noteID</th>\n",
              "      <td>0</td>\n",
              "    </tr>\n",
              "    <tr>\n",
              "      <th>onset_time</th>\n",
              "      <td>0</td>\n",
              "    </tr>\n",
              "    <tr>\n",
              "      <th>offset_time</th>\n",
              "      <td>0</td>\n",
              "    </tr>\n",
              "    <tr>\n",
              "      <th>spelled_pitch</th>\n",
              "      <td>0</td>\n",
              "    </tr>\n",
              "    <tr>\n",
              "      <th>onset_velocity</th>\n",
              "      <td>0</td>\n",
              "    </tr>\n",
              "    <tr>\n",
              "      <th>offset_velocity</th>\n",
              "      <td>0</td>\n",
              "    </tr>\n",
              "    <tr>\n",
              "      <th>channel</th>\n",
              "      <td>0</td>\n",
              "    </tr>\n",
              "    <tr>\n",
              "      <th>finger_number</th>\n",
              "      <td>0</td>\n",
              "    </tr>\n",
              "  </tbody>\n",
              "</table>\n",
              "</div><br><label><b>dtype:</b> int64</label>"
            ]
          },
          "metadata": {},
          "execution_count": 4
        }
      ],
      "source": [
        "df.isna().sum()"
      ]
    },
    {
      "cell_type": "markdown",
      "id": "a27ee2a7",
      "metadata": {
        "id": "a27ee2a7"
      },
      "source": [
        "# Idea 1: simple linear regression to predict finger_number"
      ]
    },
    {
      "cell_type": "code",
      "execution_count": 5,
      "id": "10eeea16",
      "metadata": {
        "colab": {
          "base_uri": "https://localhost:8080/"
        },
        "id": "10eeea16",
        "outputId": "de97d553-6f73-44cb-b344-929a9ad0d069"
      },
      "outputs": [
        {
          "output_type": "stream",
          "name": "stdout",
          "text": [
            "{'A1': 0, 'A2': 1, 'A3': 2, 'A4': 3, 'A5': 4, 'A6': 5, 'B1': 6, 'B2': 7, 'B3': 8, 'B4': 9, 'B5': 10, 'B6': 11, 'Bb1': 12, 'Bb2': 13, 'Bb3': 14, 'Bb4': 15, 'Bb5': 16, 'Bb6': 17, 'C#1': 18, 'C#2': 19, 'C#3': 20, 'C#4': 21, 'C#5': 22, 'C#6': 23, 'C#7': 24, 'C1': 25, 'C2': 26, 'C3': 27, 'C4': 28, 'C5': 29, 'C6': 30, 'C7': 31, 'D1': 32, 'D2': 33, 'D3': 34, 'D4': 35, 'D5': 36, 'D6': 37, 'D7': 38, 'E1': 39, 'E2': 40, 'E3': 41, 'E4': 42, 'E5': 43, 'E6': 44, 'E7': 45, 'Eb1': 46, 'Eb2': 47, 'Eb3': 48, 'Eb4': 49, 'Eb5': 50, 'Eb6': 51, 'Eb7': 52, 'F#1': 53, 'F#2': 54, 'F#3': 55, 'F#4': 56, 'F#5': 57, 'F#6': 58, 'F#7': 59, 'F1': 60, 'F2': 61, 'F3': 62, 'F4': 63, 'F5': 64, 'F6': 65, 'F7': 66, 'G#1': 67, 'G#2': 68, 'G#3': 69, 'G#4': 70, 'G#5': 71, 'G#6': 72, 'G1': 73, 'G2': 74, 'G3': 75, 'G4': 76, 'G5': 77, 'G6': 78}\n"
          ]
        }
      ],
      "source": [
        "spelled_pitch_values = set()\n",
        "\n",
        "for filename in os.listdir(directory_path):\n",
        "    file_path = os.path.join(directory_path, filename)\n",
        "    if os.path.isfile(file_path):\n",
        "        df = pd.read_table(file_path, sep=\"\\t\", skiprows=1, names=[\"noteID\", \"onset_time\", \"offset_time\", \"spelled_pitch\", \"onset_velocity\", \"offset_velocity\", \"channel\", \"finger_number\"])\n",
        "        spelled_pitch_values.update(df['spelled_pitch'].unique())\n",
        "\n",
        "\n",
        "\n",
        "# convert \"spelled pitch\" field to a number: create the mapping in the first place\n",
        "spelled_pitch_values = sorted(spelled_pitch_values)\n",
        "\n",
        "pitch_to_int_mapping = {p:i for i, p in enumerate(spelled_pitch_values)}\n",
        "\n",
        "# print(len(spelled_pitch_values))\n",
        "# print(len(pitch_to_int_mapping))\n",
        "print(pitch_to_int_mapping)"
      ]
    },
    {
      "cell_type": "code",
      "execution_count": 6,
      "id": "d8552f68",
      "metadata": {
        "colab": {
          "base_uri": "https://localhost:8080/"
        },
        "id": "d8552f68",
        "outputId": "7b3fe7a9-e453-4265-ae80-46a8abf00b7e"
      },
      "outputs": [
        {
          "output_type": "stream",
          "name": "stdout",
          "text": [
            "x's shape is torch.Size([293, 7])\n",
            "y's shape is torch.Size([293, 1])\n"
          ]
        }
      ],
      "source": [
        "for filename in os.listdir(directory_path):\n",
        "    file_path = os.path.join(directory_path, filename)\n",
        "    if os.path.isfile(file_path) and filename == os.listdir(directory_path)[0]:\n",
        "        df = pd.read_table(file_path, sep=\"\\t\", skiprows=1, names=[\"noteID\", \"onset_time\", \"offset_time\", \"spelled_pitch\", \"onset_velocity\", \"offset_velocity\", \"channel\", \"finger_number\"])\n",
        "\n",
        "num_data, num_features = df.shape\n",
        "x = df.iloc[:, 0:num_features - 1]\n",
        "y = df.iloc[:, num_features - 1]\n",
        "\n",
        "\n",
        "# convert \"spelled pitch\" field to a number\n",
        "x['spelled_pitch'] = x['spelled_pitch'].map(pitch_to_int_mapping)\n",
        "\n",
        "\n",
        "x = torch.tensor(x.values.tolist(), dtype=torch.float32)\n",
        "y = torch.tensor(y.values.astype(float).tolist())\n",
        "y = y.unsqueeze(1)   # conver from size [289] to size [289, 1]\n",
        "\n",
        "print(f\"x's shape is {x.shape}\")\n",
        "print(f\"y's shape is {y.shape}\")"
      ]
    },
    {
      "cell_type": "code",
      "execution_count": 7,
      "id": "264b9991",
      "metadata": {
        "colab": {
          "base_uri": "https://localhost:8080/"
        },
        "id": "264b9991",
        "outputId": "152adecc-1767-469a-823d-3d2274c1b9e0"
      },
      "outputs": [
        {
          "output_type": "stream",
          "name": "stdout",
          "text": [
            "num features is 8 and num data is 293\n"
          ]
        }
      ],
      "source": [
        "print(f\"num features is {num_features} and num data is {num_data}\")"
      ]
    },
    {
      "cell_type": "code",
      "execution_count": 8,
      "id": "e3ebc98b",
      "metadata": {
        "id": "e3ebc98b"
      },
      "outputs": [],
      "source": [
        "# Pytorch code that does the same least squares fitting, but nn.Module-ized. Iterative regression\n",
        "\n",
        "class LinearRegressionBaseline(nn.Module):\n",
        "    def __init__(self, input_dims, output_dims):\n",
        "        super(LinearRegressionBaseline, self).__init__()\n",
        "        self.linear = nn.Linear(input_dims, output_dims)\n",
        "\n",
        "    def forward(self, x):\n",
        "        return self.linear(x)"
      ]
    },
    {
      "cell_type": "code",
      "execution_count": 9,
      "id": "8dc5b8b6",
      "metadata": {
        "colab": {
          "base_uri": "https://localhost:8080/"
        },
        "id": "8dc5b8b6",
        "outputId": "f1983717-66d1-478e-e15d-4a1a7597f852"
      },
      "outputs": [
        {
          "output_type": "stream",
          "name": "stdout",
          "text": [
            "torch.Size([293, 7])\n",
            "torch.Size([293, 1])\n",
            "torch.Size([293, 1])\n"
          ]
        }
      ],
      "source": [
        "my_linear_model = LinearRegressionBaseline(num_features - 1, 1)\n",
        "\n",
        "criterion = nn.MSELoss()\n",
        "optimizer = torch.optim.Adam(my_linear_model.parameters(), lr=1e-2)    # Needs a VERY small learning rate, else NaN.\n",
        "\n",
        "\n",
        "# normalize inputs before feeding to model\n",
        "x = (x - x.mean()) / x.std()\n",
        "y = (y - y.mean()) / y.std()\n",
        "\n",
        "\n",
        "print(x.shape)\n",
        "print(y.shape)\n",
        "print(my_linear_model(x).shape)\n"
      ]
    },
    {
      "cell_type": "code",
      "execution_count": 10,
      "id": "acc6809c",
      "metadata": {
        "colab": {
          "base_uri": "https://localhost:8080/"
        },
        "id": "acc6809c",
        "outputId": "241b72a4-e27d-470b-a52d-1a599db6f285"
      },
      "outputs": [
        {
          "output_type": "stream",
          "name": "stdout",
          "text": [
            "Epoch [5000/5000], Loss: 0.6820\n"
          ]
        }
      ],
      "source": [
        "\n",
        "epochs = 5000\n",
        "for epoch in range(epochs):\n",
        "    # Forward pass\n",
        "    y_pred = my_linear_model(x)\n",
        "    loss = criterion(y_pred, y)\n",
        "#     print(x.shape)\n",
        "#     print(y.shape)\n",
        "#     print(y_pred)\n",
        "\n",
        "    # Backward pass and optimization\n",
        "    optimizer.zero_grad()\n",
        "    loss.backward()\n",
        "    optimizer.step()\n",
        "\n",
        "    if (epoch + 1) % 5000 == 0:\n",
        "        print(f'Epoch [{epoch + 1}/{epochs}], Loss: {loss.item():.4f}')"
      ]
    },
    {
      "cell_type": "code",
      "execution_count": 11,
      "id": "91667def",
      "metadata": {
        "colab": {
          "base_uri": "https://localhost:8080/"
        },
        "id": "91667def",
        "outputId": "de706450-92fd-4dc4-e060-0058bd20164d"
      },
      "outputs": [
        {
          "output_type": "stream",
          "name": "stdout",
          "text": [
            "Test Results:\n",
            "Test Loss: 0.6820\n",
            "Sample Predictions:\n",
            "Predicted: [0.2264247], Actual: [0.17805079]\n",
            "Predicted: [0.20039988], Actual: [1.4822726]\n",
            "Predicted: [0.22577], Actual: [0.17805079]\n",
            "Predicted: [0.19974422], Actual: [1.1562172]\n",
            "Predicted: [0.22935295], Actual: [0.17805079]\n"
          ]
        }
      ],
      "source": [
        "# Check on testing set\n",
        "\n",
        "x_test = x\n",
        "y_test = y\n",
        "\n",
        "\n",
        "\n",
        "\n",
        "# Ensure your model is in evaluation mode\n",
        "my_linear_model.eval()\n",
        "\n",
        "# Disable gradient computation for evaluation\n",
        "with torch.no_grad():\n",
        "    # Forward pass: Predict on the test set\n",
        "    y_test_pred = my_linear_model(x_test)\n",
        "\n",
        "    # Calculate the loss on the test set\n",
        "    test_loss = criterion(y_test_pred, y_test)\n",
        "\n",
        "    # Optional: Convert predictions to numpy for further analysis if needed\n",
        "    y_test_pred_np = y_test_pred.cpu().numpy() if y_test_pred.is_cuda else y_test_pred.numpy()\n",
        "    y_test_np = y_test.cpu().numpy() if y_test.is_cuda else y_test.numpy()\n",
        "\n",
        "# Print the results\n",
        "print(\"Test Results:\")\n",
        "print(f\"Test Loss: {test_loss.item():.4f}\")\n",
        "print(\"Sample Predictions:\")\n",
        "for i in range(min(5, len(y_test_pred))):  # Display up to 5 predictions\n",
        "    print(f\"Predicted: {y_test_pred_np[i]}, Actual: {y_test_np[i]}\")"
      ]
    },
    {
      "cell_type": "code",
      "execution_count": 12,
      "id": "309a6e06",
      "metadata": {
        "colab": {
          "base_uri": "https://localhost:8080/"
        },
        "id": "309a6e06",
        "outputId": "21fa9e58-9775-4129-ccc8-91d70b8f959a"
      },
      "outputs": [
        {
          "output_type": "stream",
          "name": "stdout",
          "text": [
            "(293, 7)\n",
            "(293,)\n",
            "Weights (Scikit-Learn): [ -87.728645      0.22731297   12.838359    -15.811432      0.13658929\n",
            "    0.22497249    0.22756538 -104.933     ]\n",
            "Test Loss (Scikit-Learn): 0.233975\n"
          ]
        }
      ],
      "source": [
        "# Compare with Scikit Normal Equation Result\n",
        "\n",
        "import numpy as np\n",
        "from sklearn.linear_model import LinearRegression\n",
        "import torch\n",
        "\n",
        "# Assuming x and y are your training tensors\n",
        "x_np = x.numpy() if isinstance(x, torch.Tensor) else x\n",
        "y_np = y.numpy() if isinstance(y, torch.Tensor) else y\n",
        "y_np = y_np.reshape(-1)\n",
        "\n",
        "print(x_np.shape)\n",
        "print(y_np.shape)\n",
        "\n",
        "\n",
        "# Validate with Scikit-Learn\n",
        "lr = LinearRegression(fit_intercept=True)\n",
        "lr.fit(x_np, y_np)\n",
        "\n",
        "# Print Scikit-Learn weights for comparison\n",
        "print(\"Weights (Scikit-Learn):\", np.hstack([lr.intercept_, lr.coef_]))\n",
        "\n",
        "\n",
        "x_test_np = x_np\n",
        "y_test_np = y_np\n",
        "\n",
        "# Predict on the test set\n",
        "y_test_pred = lr.predict(x_test_np)\n",
        "\n",
        "# Compute Mean Squared Error (MSE) loss\n",
        "test_loss = np.mean((y_test_pred - y_test_np) ** 2)\n",
        "\n",
        "# Print the loss\n",
        "print(\"Test Loss (Scikit-Learn):\", test_loss)    # About the same loss: 0.53!"
      ]
    },
    {
      "cell_type": "markdown",
      "id": "bad1572f",
      "metadata": {
        "id": "bad1572f"
      },
      "source": [
        "# Idea 2: Add more layers"
      ]
    },
    {
      "cell_type": "code",
      "execution_count": 13,
      "id": "1104c6b9",
      "metadata": {
        "id": "1104c6b9"
      },
      "outputs": [],
      "source": [
        "# deep neural net with more layers\n",
        "\n",
        "class DeepNeuralNet(nn.Module):\n",
        "    def __init__(self, input_dims, output_dims):\n",
        "        super(DeepNeuralNet, self).__init__()\n",
        "        self.mlp_layer = nn.Sequential(\n",
        "            nn.Linear(input_dims, 4 * input_dims),\n",
        "            nn.ReLU(),\n",
        "            nn.Linear(4 * input_dims, output_dims),\n",
        "        )\n",
        "\n",
        "\n",
        "    def forward(self, x):\n",
        "        return self.mlp_layer(x)"
      ]
    },
    {
      "cell_type": "code",
      "execution_count": 14,
      "id": "e4971d1f",
      "metadata": {
        "colab": {
          "base_uri": "https://localhost:8080/"
        },
        "id": "e4971d1f",
        "outputId": "3f162e3e-1938-49e9-ebdd-81877879e2c1"
      },
      "outputs": [
        {
          "output_type": "stream",
          "name": "stdout",
          "text": [
            "torch.Size([293, 7])\n",
            "torch.Size([293, 1])\n",
            "torch.Size([293, 1])\n"
          ]
        }
      ],
      "source": [
        "dnn_model = DeepNeuralNet(num_features - 1, 1)\n",
        "\n",
        "criterion = nn.MSELoss()\n",
        "optimizer = torch.optim.Adam(dnn_model.parameters(), lr=1e-2)    # Needs a VERY small learning rate, else NaN.\n",
        "\n",
        "\n",
        "# normalize inputs before feeding to model\n",
        "x = (x - x.mean()) / x.std()\n",
        "y = (y - y.mean()) / y.std()\n",
        "\n",
        "\n",
        "print(x.shape)\n",
        "print(y.shape)\n",
        "print(dnn_model(x).shape)\n",
        "\n",
        "\n",
        "# Adding more layers helps a lot!\n",
        "\n",
        "epochs = 1000\n",
        "for epoch in range(epochs):\n",
        "    # Forward pass\n",
        "    y_pred = dnn_model(x)\n",
        "    loss = criterion(y_pred, y)\n",
        "#     print(x.shape)\n",
        "#     print(y.shape)\n",
        "#     print(y_pred)\n",
        "\n",
        "    # Backward pass and optimization\n",
        "    optimizer.zero_grad()\n",
        "    loss.backward()\n",
        "    optimizer.step()\n",
        "\n",
        "    if (epoch + 1) % 5000 == 0:\n",
        "        print(f'Epoch [{epoch + 1}/{epochs}], Loss: {loss.item():.4f}')"
      ]
    },
    {
      "cell_type": "markdown",
      "id": "44042739",
      "metadata": {
        "id": "44042739"
      },
      "source": [
        "# Testing code\n",
        "\n",
        "Testing on some random other piece"
      ]
    },
    {
      "cell_type": "code",
      "execution_count": 15,
      "id": "1db253f1",
      "metadata": {
        "colab": {
          "base_uri": "https://localhost:8080/"
        },
        "id": "1db253f1",
        "outputId": "20954dc1-b6d8-4b31-fe52-f3c02e056b34"
      },
      "outputs": [
        {
          "output_type": "stream",
          "name": "stdout",
          "text": [
            "002-5_fingering.txt\n"
          ]
        }
      ],
      "source": [
        "for filename in os.listdir(directory_path):\n",
        "    file_path = os.path.join(directory_path, filename)\n",
        "    if os.path.isfile(file_path) and filename == os.listdir(directory_path)[1]:\n",
        "        test_df = pd.read_table(file_path, sep=\"\\t\", skiprows=1, names=[\"noteID\", \"onset_time\", \"offset_time\", \"spelled_pitch\", \"onset_velocity\", \"offset_velocity\", \"channel\", \"finger_number\"])\n",
        "        print(filename)\n",
        "\n",
        "x_test = test_df.iloc[:, 0:num_features - 1]\n",
        "y_test = test_df.iloc[:, num_features - 1]\n",
        "\n",
        "x_test['spelled_pitch'] = x_test['spelled_pitch'].map(pitch_to_int_mapping)\n",
        "\n",
        "\n",
        "# print(x_test)\n",
        "\n",
        "# NORMALIZE FIRST\n",
        "# Normalize x_test\n",
        "for col in x_test.columns:\n",
        "    std = x_test[col].std()\n",
        "    if std == 0:  # Check if all values are the same\n",
        "        x_test[col] = 0  # Assign all entries in this column to 0\n",
        "    else:\n",
        "        x_test[col] = (x_test[col] - x_test[col].mean()) / std\n",
        "\n",
        "# Normalize y_test\n",
        "y_test_std = y_test.std()\n",
        "if y_test_std == 0:  # Check if all values are the same\n",
        "    y_test = 0  # Assign all entries in y_test to 0\n",
        "else:\n",
        "    y_test = (y_test - y_test.mean()) / y_test_std\n",
        "\n",
        "\n",
        "\n",
        "x_test = torch.tensor(x_test.values.tolist(), dtype=torch.float32)\n",
        "y_test = torch.tensor(y_test.values.astype(float).tolist())\n",
        "y_test = y_test.unsqueeze(1)   # conver from size [289] to size [289, 1]\n",
        "\n",
        "\n",
        "# print(y_test)\n",
        "\n",
        "\n",
        "# print(x_test.isna().sum())\n",
        "# print(y_test.shape)"
      ]
    },
    {
      "cell_type": "code",
      "execution_count": 16,
      "id": "0c09892c",
      "metadata": {
        "colab": {
          "base_uri": "https://localhost:8080/"
        },
        "id": "0c09892c",
        "outputId": "e2c8f51d-4f21-4ab6-9fde-2e5afb97891d"
      },
      "outputs": [
        {
          "output_type": "stream",
          "name": "stdout",
          "text": [
            "Test Results:\n",
            "Test Loss: 4124.6953\n",
            "Sample Predictions:\n",
            "Predicted: [-24.858881], Actual: [0.3052198]\n",
            "Predicted: [-25.188915], Actual: [0.64844805]\n",
            "Predicted: [-23.112537], Actual: [0.3052198]\n",
            "Predicted: [-24.228292], Actual: [0.99167633]\n",
            "Predicted: [-21.366205], Actual: [0.3052198]\n"
          ]
        }
      ],
      "source": [
        "\n",
        "# Check on testing set\n",
        "\n",
        "# x_test = x\n",
        "# y_test = y\n",
        "\n",
        "# print(x_test)\n",
        "# print(y_test)\n",
        "\n",
        "\n",
        "# Ensure your model is in evaluation mode\n",
        "dnn_model.eval()\n",
        "\n",
        "# Disable gradient computation for evaluation\n",
        "with torch.no_grad():\n",
        "    # Forward pass: Predict on the test set\n",
        "    y_test_pred = dnn_model(x_test)\n",
        "\n",
        "    # Calculate the loss on the test set\n",
        "    test_loss = criterion(y_test_pred, y_test)\n",
        "\n",
        "    # Optional: Convert predictions to numpy for further analysis if needed\n",
        "    y_test_pred_np = y_test_pred.cpu().numpy() if y_test_pred.is_cuda else y_test_pred.numpy()\n",
        "    y_test_np = y_test.cpu().numpy() if y_test.is_cuda else y_test.numpy()\n",
        "\n",
        "# Print the results\n",
        "print(\"Test Results:\")\n",
        "print(f\"Test Loss: {test_loss.item():.4f}\")\n",
        "print(\"Sample Predictions:\")\n",
        "for i in range(min(5, len(y_test_pred))):  # Display up to 5 predictions\n",
        "    print(f\"Predicted: {y_test_pred_np[i]}, Actual: {y_test_np[i]}\")"
      ]
    },
    {
      "cell_type": "markdown",
      "source": [
        "# Testing if Chinese reward model works"
      ],
      "metadata": {
        "id": "bLEXdPp9IXAA"
      },
      "id": "bLEXdPp9IXAA"
    },
    {
      "cell_type": "code",
      "execution_count": 38,
      "id": "2b67f2bd",
      "metadata": {
        "id": "2b67f2bd",
        "colab": {
          "base_uri": "https://localhost:8080/",
          "height": 842
        },
        "outputId": "bd4d5c76-226c-4cf2-ba83-1dbc5c37359a"
      },
      "outputs": [
        {
          "output_type": "error",
          "ename": "ValueError",
          "evalue": "4 is not in list",
          "traceback": [
            "\u001b[0;31m---------------------------------------------------------------------------\u001b[0m",
            "\u001b[0;31mValueError\u001b[0m                                Traceback (most recent call last)",
            "\u001b[0;32m<ipython-input-38-c3a821e93aec>\u001b[0m in \u001b[0;36m<cell line: 0>\u001b[0;34m()\u001b[0m\n\u001b[1;32m     57\u001b[0m \u001b[0;34m\u001b[0m\u001b[0m\n\u001b[1;32m     58\u001b[0m \u001b[0mspelled_pitches\u001b[0m \u001b[0;34m=\u001b[0m \u001b[0mdf\u001b[0m\u001b[0;34m[\u001b[0m\u001b[0;34m'spelled_pitch'\u001b[0m\u001b[0;34m]\u001b[0m\u001b[0;34m.\u001b[0m\u001b[0mmap\u001b[0m\u001b[0;34m(\u001b[0m\u001b[0mpitch_to_int_mapping\u001b[0m\u001b[0;34m)\u001b[0m\u001b[0;34m.\u001b[0m\u001b[0mtolist\u001b[0m\u001b[0;34m(\u001b[0m\u001b[0;34m)\u001b[0m\u001b[0;34m\u001b[0m\u001b[0;34m\u001b[0m\u001b[0m\n\u001b[0;32m---> 59\u001b[0;31m \u001b[0mmetrics\u001b[0m \u001b[0;34m=\u001b[0m \u001b[0mcompare_fingering_sequences\u001b[0m\u001b[0;34m(\u001b[0m\u001b[0mpredicted_fingering\u001b[0m\u001b[0;34m,\u001b[0m \u001b[0mlabels\u001b[0m\u001b[0;34m,\u001b[0m \u001b[0mspelled_pitches\u001b[0m\u001b[0;34m)\u001b[0m\u001b[0;34m\u001b[0m\u001b[0;34m\u001b[0m\u001b[0m\n\u001b[0m\u001b[1;32m     60\u001b[0m \u001b[0mprint\u001b[0m\u001b[0;34m(\u001b[0m\u001b[0;34m\"Predicted fingering rewards:\"\u001b[0m\u001b[0;34m,\u001b[0m \u001b[0mmetrics\u001b[0m\u001b[0;34m[\u001b[0m\u001b[0;34m'pred_total'\u001b[0m\u001b[0;34m]\u001b[0m\u001b[0;34m,\u001b[0m \u001b[0mmetrics\u001b[0m\u001b[0;34m[\u001b[0m\u001b[0;34m'pred_avg'\u001b[0m\u001b[0;34m]\u001b[0m\u001b[0;34m)\u001b[0m\u001b[0;34m\u001b[0m\u001b[0;34m\u001b[0m\u001b[0m\n\u001b[1;32m     61\u001b[0m \u001b[0mprint\u001b[0m\u001b[0;34m(\u001b[0m\u001b[0;34m\"Ground truth fingering rewards:\"\u001b[0m\u001b[0;34m,\u001b[0m \u001b[0mmetrics\u001b[0m\u001b[0;34m[\u001b[0m\u001b[0;34m'true_total'\u001b[0m\u001b[0;34m]\u001b[0m\u001b[0;34m,\u001b[0m \u001b[0mmetrics\u001b[0m\u001b[0;34m[\u001b[0m\u001b[0;34m'true_avg'\u001b[0m\u001b[0;34m]\u001b[0m\u001b[0;34m)\u001b[0m\u001b[0;34m\u001b[0m\u001b[0;34m\u001b[0m\u001b[0m\n",
            "\u001b[0;32m<ipython-input-38-c3a821e93aec>\u001b[0m in \u001b[0;36mcompare_fingering_sequences\u001b[0;34m(pred_sequence, true_sequence, spelled_pitches)\u001b[0m\n\u001b[1;32m     43\u001b[0m         \u001b[0mhand\u001b[0m \u001b[0;34m=\u001b[0m \u001b[0mHand\u001b[0m\u001b[0;34m.\u001b[0m\u001b[0mRIGHT\u001b[0m \u001b[0;32mif\u001b[0m \u001b[0mspelled_pitches\u001b[0m\u001b[0;34m[\u001b[0m\u001b[0mi\u001b[0m\u001b[0;34m]\u001b[0m \u001b[0;34m>\u001b[0m \u001b[0mspelled_pitches\u001b[0m\u001b[0;34m[\u001b[0m\u001b[0mi\u001b[0m\u001b[0;34m-\u001b[0m\u001b[0;36m1\u001b[0m\u001b[0;34m]\u001b[0m \u001b[0;32melse\u001b[0m \u001b[0mHand\u001b[0m\u001b[0;34m.\u001b[0m\u001b[0mLEFT\u001b[0m\u001b[0;34m\u001b[0m\u001b[0;34m\u001b[0m\u001b[0m\n\u001b[1;32m     44\u001b[0m \u001b[0;34m\u001b[0m\u001b[0m\n\u001b[0;32m---> 45\u001b[0;31m         \u001b[0mpred_reward\u001b[0m \u001b[0;34m=\u001b[0m \u001b[0mreward_model\u001b[0m\u001b[0;34m.\u001b[0m\u001b[0mcalculate_reward\u001b[0m\u001b[0;34m(\u001b[0m\u001b[0;34m[\u001b[0m\u001b[0mpred_pairs\u001b[0m\u001b[0;34m[\u001b[0m\u001b[0mi\u001b[0m\u001b[0;34m-\u001b[0m\u001b[0;36m1\u001b[0m\u001b[0;34m]\u001b[0m\u001b[0;34m]\u001b[0m\u001b[0;34m,\u001b[0m \u001b[0;34m[\u001b[0m\u001b[0mpred_pairs\u001b[0m\u001b[0;34m[\u001b[0m\u001b[0mi\u001b[0m\u001b[0;34m]\u001b[0m\u001b[0;34m]\u001b[0m\u001b[0;34m,\u001b[0m \u001b[0mhand\u001b[0m\u001b[0;34m)\u001b[0m\u001b[0;34m\u001b[0m\u001b[0;34m\u001b[0m\u001b[0m\n\u001b[0m\u001b[1;32m     46\u001b[0m         \u001b[0mtrue_reward\u001b[0m \u001b[0;34m=\u001b[0m \u001b[0mreward_model\u001b[0m\u001b[0;34m.\u001b[0m\u001b[0mcalculate_reward\u001b[0m\u001b[0;34m(\u001b[0m\u001b[0;34m[\u001b[0m\u001b[0mtrue_pairs\u001b[0m\u001b[0;34m[\u001b[0m\u001b[0mi\u001b[0m\u001b[0;34m-\u001b[0m\u001b[0;36m1\u001b[0m\u001b[0;34m]\u001b[0m\u001b[0;34m]\u001b[0m\u001b[0;34m,\u001b[0m \u001b[0;34m[\u001b[0m\u001b[0mtrue_pairs\u001b[0m\u001b[0;34m[\u001b[0m\u001b[0mi\u001b[0m\u001b[0;34m]\u001b[0m\u001b[0;34m]\u001b[0m\u001b[0;34m,\u001b[0m \u001b[0mhand\u001b[0m\u001b[0;34m)\u001b[0m\u001b[0;34m\u001b[0m\u001b[0;34m\u001b[0m\u001b[0m\n\u001b[1;32m     47\u001b[0m \u001b[0;34m\u001b[0m\u001b[0m\n",
            "\u001b[0;32m/content/drive/.shortcut-targets-by-id/1jn_llb-3OnamAo89wMXsdDKi__iyjswV/auto-pian/reward.py\u001b[0m in \u001b[0;36mcalculate_reward\u001b[0;34m(self, current_fingering, next_fingering, hand)\u001b[0m\n\u001b[1;32m    106\u001b[0m \u001b[0;34m\u001b[0m\u001b[0m\n\u001b[1;32m    107\u001b[0m             \u001b[0;31m# Calculate stretching reward\u001b[0m\u001b[0;34m\u001b[0m\u001b[0;34m\u001b[0m\u001b[0m\n\u001b[0;32m--> 108\u001b[0;31m             \u001b[0mstretch_rate\u001b[0m \u001b[0;34m=\u001b[0m \u001b[0mself\u001b[0m\u001b[0;34m.\u001b[0m\u001b[0mget_stretching_rate\u001b[0m\u001b[0;34m(\u001b[0m\u001b[0mnfp1\u001b[0m\u001b[0;34m,\u001b[0m \u001b[0mnfp2\u001b[0m\u001b[0;34m,\u001b[0m \u001b[0mhand\u001b[0m\u001b[0;34m)\u001b[0m\u001b[0;34m\u001b[0m\u001b[0;34m\u001b[0m\u001b[0m\n\u001b[0m\u001b[1;32m    109\u001b[0m             \u001b[0;32mif\u001b[0m \u001b[0mstretch_rate\u001b[0m \u001b[0;34m==\u001b[0m \u001b[0;36m0\u001b[0m\u001b[0;34m:\u001b[0m\u001b[0;34m\u001b[0m\u001b[0;34m\u001b[0m\u001b[0m\n\u001b[1;32m    110\u001b[0m                 \u001b[0;32mreturn\u001b[0m \u001b[0;36m50\u001b[0m\u001b[0;34m\u001b[0m\u001b[0;34m\u001b[0m\u001b[0m\n",
            "\u001b[0;32m/content/drive/.shortcut-targets-by-id/1jn_llb-3OnamAo89wMXsdDKi__iyjswV/auto-pian/reward.py\u001b[0m in \u001b[0;36mget_stretching_rate\u001b[0;34m(self, nfp1, nfp2, hand)\u001b[0m\n\u001b[1;32m     63\u001b[0m         \u001b[0mf1\u001b[0m\u001b[0;34m,\u001b[0m \u001b[0mf2\u001b[0m \u001b[0;34m=\u001b[0m \u001b[0mint\u001b[0m\u001b[0;34m(\u001b[0m\u001b[0mnfp1\u001b[0m\u001b[0;34m.\u001b[0m\u001b[0mfinger\u001b[0m\u001b[0;34m.\u001b[0m\u001b[0mvalue\u001b[0m \u001b[0;34m-\u001b[0m \u001b[0;36m1\u001b[0m\u001b[0;34m)\u001b[0m\u001b[0;34m,\u001b[0m \u001b[0mint\u001b[0m\u001b[0;34m(\u001b[0m\u001b[0mnfp2\u001b[0m\u001b[0;34m.\u001b[0m\u001b[0mfinger\u001b[0m\u001b[0;34m.\u001b[0m\u001b[0mvalue\u001b[0m \u001b[0;34m-\u001b[0m \u001b[0;36m1\u001b[0m\u001b[0;34m)\u001b[0m\u001b[0;34m\u001b[0m\u001b[0;34m\u001b[0m\u001b[0m\n\u001b[1;32m     64\u001b[0m         \u001b[0mnatural_distance\u001b[0m \u001b[0;34m=\u001b[0m \u001b[0mabs\u001b[0m\u001b[0;34m(\u001b[0m\u001b[0mnfp1\u001b[0m\u001b[0;34m.\u001b[0m\u001b[0mfinger\u001b[0m\u001b[0;34m.\u001b[0m\u001b[0mvalue\u001b[0m \u001b[0;34m-\u001b[0m \u001b[0mnfp2\u001b[0m\u001b[0;34m.\u001b[0m\u001b[0mfinger\u001b[0m\u001b[0;34m.\u001b[0m\u001b[0mvalue\u001b[0m\u001b[0;34m)\u001b[0m\u001b[0;34m\u001b[0m\u001b[0;34m\u001b[0m\u001b[0m\n\u001b[0;32m---> 65\u001b[0;31m         \u001b[0mphysical_distance\u001b[0m \u001b[0;34m=\u001b[0m \u001b[0mself\u001b[0m\u001b[0;34m.\u001b[0m\u001b[0mget_key_distance\u001b[0m\u001b[0;34m(\u001b[0m\u001b[0mnfp1\u001b[0m\u001b[0;34m.\u001b[0m\u001b[0mnote\u001b[0m\u001b[0;34m,\u001b[0m \u001b[0mnfp2\u001b[0m\u001b[0;34m.\u001b[0m\u001b[0mnote\u001b[0m\u001b[0;34m)\u001b[0m\u001b[0;34m\u001b[0m\u001b[0;34m\u001b[0m\u001b[0m\n\u001b[0m\u001b[1;32m     66\u001b[0m         \u001b[0mmax_distance\u001b[0m \u001b[0;34m=\u001b[0m \u001b[0mself\u001b[0m\u001b[0;34m.\u001b[0m\u001b[0mmax_finger_distance\u001b[0m\u001b[0;34m[\u001b[0m\u001b[0mf1\u001b[0m\u001b[0;34m,\u001b[0m \u001b[0mf2\u001b[0m\u001b[0;34m]\u001b[0m\u001b[0;34m\u001b[0m\u001b[0;34m\u001b[0m\u001b[0m\n\u001b[1;32m     67\u001b[0m \u001b[0;34m\u001b[0m\u001b[0m\n",
            "\u001b[0;32m/content/drive/.shortcut-targets-by-id/1jn_llb-3OnamAo89wMXsdDKi__iyjswV/auto-pian/reward.py\u001b[0m in \u001b[0;36mget_key_distance\u001b[0;34m(self, note1, note2)\u001b[0m\n\u001b[1;32m     51\u001b[0m             \u001b[0;32mreturn\u001b[0m \u001b[0mself\u001b[0m\u001b[0;34m.\u001b[0m\u001b[0mwhite_keys\u001b[0m\u001b[0;34m.\u001b[0m\u001b[0mindex\u001b[0m\u001b[0;34m(\u001b[0m\u001b[0mnote\u001b[0m\u001b[0;34m.\u001b[0m\u001b[0mpitch\u001b[0m \u001b[0;34m+\u001b[0m \u001b[0;36m1\u001b[0m\u001b[0;34m)\u001b[0m \u001b[0;34m-\u001b[0m \u001b[0;36m0.5\u001b[0m\u001b[0;34m\u001b[0m\u001b[0;34m\u001b[0m\u001b[0m\n\u001b[1;32m     52\u001b[0m \u001b[0;34m\u001b[0m\u001b[0m\n\u001b[0;32m---> 53\u001b[0;31m         \u001b[0;32mreturn\u001b[0m \u001b[0mabs\u001b[0m\u001b[0;34m(\u001b[0m\u001b[0mget_position\u001b[0m\u001b[0;34m(\u001b[0m\u001b[0mnote1\u001b[0m\u001b[0;34m)\u001b[0m \u001b[0;34m-\u001b[0m \u001b[0mget_position\u001b[0m\u001b[0;34m(\u001b[0m\u001b[0mnote2\u001b[0m\u001b[0;34m)\u001b[0m\u001b[0;34m)\u001b[0m\u001b[0;34m\u001b[0m\u001b[0;34m\u001b[0m\u001b[0m\n\u001b[0m\u001b[1;32m     54\u001b[0m \u001b[0;34m\u001b[0m\u001b[0m\n\u001b[1;32m     55\u001b[0m     \u001b[0;31m# CALCULATE FINGER STRETCHING RATE BETWEEN 0-1 BASED ON PHYSICAL CONSTRAINTS\u001b[0m\u001b[0;34m\u001b[0m\u001b[0;34m\u001b[0m\u001b[0m\n",
            "\u001b[0;32m/content/drive/.shortcut-targets-by-id/1jn_llb-3OnamAo89wMXsdDKi__iyjswV/auto-pian/reward.py\u001b[0m in \u001b[0;36mget_position\u001b[0;34m(note)\u001b[0m\n\u001b[1;32m     49\u001b[0m             \u001b[0;32mif\u001b[0m \u001b[0mnote\u001b[0m\u001b[0;34m.\u001b[0m\u001b[0mpitch\u001b[0m \u001b[0;32min\u001b[0m \u001b[0mself\u001b[0m\u001b[0;34m.\u001b[0m\u001b[0mwhite_keys\u001b[0m\u001b[0;34m:\u001b[0m\u001b[0;34m\u001b[0m\u001b[0;34m\u001b[0m\u001b[0m\n\u001b[1;32m     50\u001b[0m                 \u001b[0;32mreturn\u001b[0m \u001b[0mself\u001b[0m\u001b[0;34m.\u001b[0m\u001b[0mwhite_keys\u001b[0m\u001b[0;34m.\u001b[0m\u001b[0mindex\u001b[0m\u001b[0;34m(\u001b[0m\u001b[0mnote\u001b[0m\u001b[0;34m.\u001b[0m\u001b[0mpitch\u001b[0m\u001b[0;34m)\u001b[0m\u001b[0;34m\u001b[0m\u001b[0;34m\u001b[0m\u001b[0m\n\u001b[0;32m---> 51\u001b[0;31m             \u001b[0;32mreturn\u001b[0m \u001b[0mself\u001b[0m\u001b[0;34m.\u001b[0m\u001b[0mwhite_keys\u001b[0m\u001b[0;34m.\u001b[0m\u001b[0mindex\u001b[0m\u001b[0;34m(\u001b[0m\u001b[0mnote\u001b[0m\u001b[0;34m.\u001b[0m\u001b[0mpitch\u001b[0m \u001b[0;34m+\u001b[0m \u001b[0;36m1\u001b[0m\u001b[0;34m)\u001b[0m \u001b[0;34m-\u001b[0m \u001b[0;36m0.5\u001b[0m\u001b[0;34m\u001b[0m\u001b[0;34m\u001b[0m\u001b[0m\n\u001b[0m\u001b[1;32m     52\u001b[0m \u001b[0;34m\u001b[0m\u001b[0m\n\u001b[1;32m     53\u001b[0m         \u001b[0;32mreturn\u001b[0m \u001b[0mabs\u001b[0m\u001b[0;34m(\u001b[0m\u001b[0mget_position\u001b[0m\u001b[0;34m(\u001b[0m\u001b[0mnote1\u001b[0m\u001b[0;34m)\u001b[0m \u001b[0;34m-\u001b[0m \u001b[0mget_position\u001b[0m\u001b[0;34m(\u001b[0m\u001b[0mnote2\u001b[0m\u001b[0;34m)\u001b[0m\u001b[0;34m)\u001b[0m\u001b[0;34m\u001b[0m\u001b[0;34m\u001b[0m\u001b[0m\n",
            "\u001b[0;31mValueError\u001b[0m: 4 is not in list"
          ]
        }
      ],
      "source": [
        "# ASK WILLY HOW TO WRITE THE PREDICTION CODE TO PRINT OUT THE FINGERINGS\n",
        "\n",
        "from reward import PianoFingeringModel, Hand, Finger, Note, NoteFingerPair # see reward.py file\n",
        "reward_model = PianoFingeringModel()\n",
        "\n",
        "# WHY THE FUCK IS THERE A 10TH FINGER\n",
        "\n",
        "def convert_finger_systems(finger_num):\n",
        "    \"\"\"\n",
        "    Convert between:\n",
        "    Original: 0-9 (0-4 right hand, 5-9 left hand)\n",
        "    Reward model: 1-5 for each hand, with hand direction indicated separately\n",
        "    \"\"\"\n",
        "    # Extract hand and normalize finger number\n",
        "    if finger_num >= 5:  # Left hand\n",
        "        hand = Hand.LEFT\n",
        "        finger = Finger(finger_num - 4)  # Convert 5-9 to 1-5\n",
        "    else:  # Right hand\n",
        "        hand = Hand.RIGHT\n",
        "        finger = Finger(finger_num + 1)  # Convert 0-4 to 1-5\n",
        "\n",
        "    return finger, hand\n",
        "\n",
        "def compare_fingering_sequences(pred_sequence, true_sequence, spelled_pitches):\n",
        "    def convert_finger_number(f):\n",
        "        # Convert from [0,4],[6,10] to [-5,-1],[1,5]\n",
        "        if f >= 6:  # Right hand\n",
        "            return f - 5\n",
        "        return -(5 - f)  # Left hand\n",
        "\n",
        "    pred_pairs = []\n",
        "    true_pairs = []\n",
        "\n",
        "    for i in range(len(pred_sequence)):\n",
        "        note = Note(pitch=spelled_pitches[i], position=i)\n",
        "        pred_finger = convert_finger_number(pred_sequence[i])\n",
        "        true_finger = convert_finger_number(true_sequence[i])\n",
        "        pred_pairs.append(NoteFingerPair(note=note, finger=Finger(abs(pred_finger))))\n",
        "        true_pairs.append(NoteFingerPair(note=note, finger=Finger(abs(true_finger))))\n",
        "\n",
        "    pred_rewards = []\n",
        "    true_rewards = []\n",
        "\n",
        "    for i in range(1, len(pred_pairs)):\n",
        "        hand = Hand.RIGHT if spelled_pitches[i] > spelled_pitches[i-1] else Hand.LEFT\n",
        "\n",
        "        pred_reward = reward_model.calculate_reward([pred_pairs[i-1]], [pred_pairs[i]], hand)\n",
        "        true_reward = reward_model.calculate_reward([true_pairs[i-1]], [true_pairs[i]], hand)\n",
        "\n",
        "        pred_rewards.append(pred_reward)\n",
        "        true_rewards.append(true_reward)\n",
        "\n",
        "    return {\n",
        "        'pred_total': sum(pred_rewards),\n",
        "        'pred_avg': sum(pred_rewards)/len(pred_rewards),\n",
        "        'true_total': sum(true_rewards),\n",
        "        'true_avg': sum(true_rewards)/len(true_rewards)\n",
        "    }\n",
        "\n",
        "spelled_pitches = df['spelled_pitch'].map(pitch_to_int_mapping).tolist()\n",
        "metrics = compare_fingering_sequences(predicted_fingering, labels, spelled_pitches)\n",
        "print(\"Predicted fingering rewards:\", metrics['pred_total'], metrics['pred_avg'])\n",
        "print(\"Ground truth fingering rewards:\", metrics['true_total'], metrics['true_avg'])"
      ]
    },
    {
      "cell_type": "code",
      "execution_count": 30,
      "id": "78766c61",
      "metadata": {
        "id": "78766c61"
      },
      "outputs": [],
      "source": []
    },
    {
      "cell_type": "code",
      "execution_count": null,
      "id": "73b48a05",
      "metadata": {
        "id": "73b48a05"
      },
      "outputs": [],
      "source": []
    },
    {
      "cell_type": "code",
      "execution_count": null,
      "id": "91ed0aa4",
      "metadata": {
        "id": "91ed0aa4"
      },
      "outputs": [],
      "source": []
    },
    {
      "cell_type": "code",
      "execution_count": null,
      "id": "21e7f5a6",
      "metadata": {
        "id": "21e7f5a6"
      },
      "outputs": [],
      "source": []
    },
    {
      "cell_type": "code",
      "execution_count": null,
      "id": "c4e53439",
      "metadata": {
        "id": "c4e53439"
      },
      "outputs": [],
      "source": []
    }
  ],
  "metadata": {
    "colab": {
      "provenance": []
    },
    "kernelspec": {
      "display_name": "Python (smol)",
      "language": "python",
      "name": "smol"
    },
    "language_info": {
      "codemirror_mode": {
        "name": "ipython",
        "version": 3
      },
      "file_extension": ".py",
      "mimetype": "text/x-python",
      "name": "python",
      "nbconvert_exporter": "python",
      "pygments_lexer": "ipython3",
      "version": "3.12.3"
    }
  },
  "nbformat": 4,
  "nbformat_minor": 5
}