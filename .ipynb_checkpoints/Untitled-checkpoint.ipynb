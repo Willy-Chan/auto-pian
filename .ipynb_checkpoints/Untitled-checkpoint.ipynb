{
 "cells": [
  {
   "cell_type": "code",
   "execution_count": 35,
   "id": "b7c41472",
   "metadata": {},
   "outputs": [],
   "source": [
    "import torch\n",
    "import torch.nn as nn\n",
    "import pandas as pd\n",
    "import numpy as np\n",
    "import os"
   ]
  },
  {
   "cell_type": "code",
   "execution_count": 100,
   "id": "2d7b888e",
   "metadata": {},
   "outputs": [
    {
     "name": "stdout",
     "output_type": "stream",
     "text": [
      "014-3_fingering.txt\n",
      "   noteID  onset_time  offset_time spelled_pitch  onset_velocity  \\\n",
      "0       0    0.006978     0.363573            C5              67   \n",
      "1       1    0.364271     0.714585            C5              64   \n",
      "2       2    0.715283     1.071180            C5              64   \n",
      "3       3    1.072920     1.588110            C5              69   \n",
      "4       4    1.072920     3.222690            F3              56   \n",
      "5       5    1.072920     3.222690            A3              56   \n",
      "6       6    1.072920     3.222690            C4              70   \n",
      "7       7    1.620580     1.682360            D5              64   \n",
      "8       8    1.686550     1.749370            C5              64   \n",
      "9       9    1.753560     1.815340            B4              64   \n",
      "\n",
      "   offset_velocity  channel finger_number  \n",
      "0               80        0             3  \n",
      "1               80        0             2  \n",
      "2               80        0             3  \n",
      "3               80        0             2  \n",
      "4               80        1            -5  \n",
      "5               80        1            -3  \n",
      "6               80        1            -1  \n",
      "7               80        0             3  \n",
      "8               80        0             2  \n",
      "9               80        0             1  \n"
     ]
    }
   ],
   "source": [
    "directory_path = 'PianoFingeringDataset_v1.2/PianoFingeringDataset_v1.2/FingeringFiles/'\n",
    "\n",
    "\n",
    "\n",
    "# Loads in ONE big CONCATENATED dataset from ALL dataframes\n",
    "# my_dfs = []\n",
    "\n",
    "# for filename in os.listdir(directory_path):\n",
    "#     file_path = os.path.join(directory_path, filename)\n",
    "#     if os.path.isfile(file_path):\n",
    "#         df = pd.read_table(file_path, sep=\"\\t\", skiprows=1, names=[\"noteID\", \"onset_time\", \"offset_time\", \"spelled_pitch\", \"onset_velocity\", \"offset_velocity\", \"channel\", \"finger_number\"])\n",
    "#         my_dfs.append(df)\n",
    "# #         print(df)\n",
    "        \n",
    "# big_df = pd.concat(my_dfs)\n",
    "# print(big_df)\n",
    "\n",
    "\n",
    "# load in just the fingering for 014-3: Mozart Piano Sonata K 330 in C major, 2nd mov.\n",
    "for filename in os.listdir(directory_path):\n",
    "    file_path = os.path.join(directory_path, filename)\n",
    "    if os.path.isfile(file_path) and filename == os.listdir(directory_path)[0]:\n",
    "        df = pd.read_table(file_path, sep=\"\\t\", skiprows=1, names=[\"noteID\", \"onset_time\", \"offset_time\", \"spelled_pitch\", \"onset_velocity\", \"offset_velocity\", \"channel\", \"finger_number\"])\n",
    "        print(filename)\n",
    "        print(df.head(10))\n",
    "        \n"
   ]
  },
  {
   "cell_type": "code",
   "execution_count": 141,
   "id": "caef95f6",
   "metadata": {},
   "outputs": [
    {
     "data": {
      "text/plain": [
       "noteID             0\n",
       "onset_time         0\n",
       "offset_time        0\n",
       "spelled_pitch      0\n",
       "onset_velocity     0\n",
       "offset_velocity    0\n",
       "channel            0\n",
       "finger_number      0\n",
       "dtype: int64"
      ]
     },
     "execution_count": 141,
     "metadata": {},
     "output_type": "execute_result"
    }
   ],
   "source": [
    "df.isna().sum()"
   ]
  },
  {
   "cell_type": "markdown",
   "id": "a27ee2a7",
   "metadata": {},
   "source": [
    "# Idea 1: simple linear regression to predict finger_number"
   ]
  },
  {
   "cell_type": "code",
   "execution_count": 109,
   "id": "10eeea16",
   "metadata": {},
   "outputs": [
    {
     "name": "stdout",
     "output_type": "stream",
     "text": [
      "{'A2': 0, 'A3': 1, 'A4': 2, 'A5': 3, 'B3': 4, 'B4': 5, 'B5': 6, 'Bb2': 7, 'Bb3': 8, 'Bb4': 9, 'Bb5': 10, 'C#4': 11, 'C#5': 12, 'C2': 13, 'C3': 14, 'C4': 15, 'C5': 16, 'C6': 17, 'D2': 18, 'D3': 19, 'D4': 20, 'D5': 21, 'E2': 22, 'E3': 23, 'E4': 24, 'E5': 25, 'Eb4': 26, 'Eb5': 27, 'F#4': 28, 'F2': 29, 'F3': 30, 'F4': 31, 'F5': 32, 'G2': 33, 'G3': 34, 'G4': 35, 'G5': 36}\n"
     ]
    }
   ],
   "source": [
    "# convert \"spelled pitch\" field to a number: create the mapping in the first place\n",
    "spelled_pitch_values = sorted(set(x['spelled_pitch'].unique().tolist()))\n",
    "\n",
    "pitch_to_int_mapping = {p:i for i, p in enumerate(spelled_pitch_values)}\n",
    "\n",
    "# print(len(spelled_pitch_values))\n",
    "# print(len(pitch_to_int_mapping))\n",
    "print(pitch_to_int_mapping)"
   ]
  },
  {
   "cell_type": "code",
   "execution_count": 132,
   "id": "d8552f68",
   "metadata": {},
   "outputs": [
    {
     "name": "stdout",
     "output_type": "stream",
     "text": [
      "x's shape is torch.Size([289, 7])\n",
      "y's shape is torch.Size([289, 1])\n"
     ]
    }
   ],
   "source": [
    "num_data, num_features = df.shape\n",
    "x = df.iloc[:, 0:num_features - 1]\n",
    "y = df.iloc[:, num_features - 1]\n",
    "\n",
    "# convert \"spelled pitch\" field to a number\n",
    "x['spelled_pitch'] = x['spelled_pitch'].map(pitch_to_int_mapping)\n",
    "\n",
    "\n",
    "x = torch.tensor(x.values.tolist(), dtype=torch.float32)\n",
    "y = torch.tensor(y.values.astype(float).tolist())\n",
    "y = y.unsqueeze(1)   # conver from size [289] to size [289, 1]\n",
    "\n",
    "print(f\"x's shape is {x.shape}\")\n",
    "print(f\"y's shape is {y.shape}\")"
   ]
  },
  {
   "cell_type": "code",
   "execution_count": 133,
   "id": "264b9991",
   "metadata": {},
   "outputs": [
    {
     "name": "stdout",
     "output_type": "stream",
     "text": [
      "num features is 8 and num data is 289\n"
     ]
    }
   ],
   "source": [
    "print(f\"num features is {num_features} and num data is {num_data}\")"
   ]
  },
  {
   "cell_type": "code",
   "execution_count": 152,
   "id": "e3ebc98b",
   "metadata": {},
   "outputs": [],
   "source": [
    "# Pytorch code that does the same least squares fitting, but nn.Module-ized. Iterative regression\n",
    "\n",
    "class LinearRegressionBaseline(nn.Module):\n",
    "    def __init__(self, input_dims, output_dims):\n",
    "        super(LinearRegressionBaseline, self).__init__()\n",
    "        self.linear = nn.Linear(input_dims, output_dims)\n",
    "    \n",
    "    def forward(self, x):\n",
    "        return self.linear(x)"
   ]
  },
  {
   "cell_type": "code",
   "execution_count": 199,
   "id": "8dc5b8b6",
   "metadata": {},
   "outputs": [
    {
     "name": "stdout",
     "output_type": "stream",
     "text": [
      "torch.Size([289, 7])\n",
      "torch.Size([289, 1])\n",
      "torch.Size([289, 1])\n"
     ]
    }
   ],
   "source": [
    "my_linear_model = LinearRegressionBaseline(num_features - 1, 1)\n",
    "\n",
    "criterion = nn.MSELoss()\n",
    "optimizer = torch.optim.Adam(my_linear_model.parameters(), lr=1e-2)    # Needs a VERY small learning rate, else NaN.\n",
    "\n",
    "\n",
    "# normalize inputs before feeding to model\n",
    "x = (x - x.mean()) / x.std()\n",
    "y = (y - y.mean()) / y.std()\n",
    "\n",
    "\n",
    "print(x.shape)\n",
    "print(y.shape)\n",
    "print(my_linear_model(x).shape)\n"
   ]
  },
  {
   "cell_type": "code",
   "execution_count": 200,
   "id": "acc6809c",
   "metadata": {},
   "outputs": [
    {
     "name": "stdout",
     "output_type": "stream",
     "text": [
      "Epoch [5000/50000], Loss: 0.6505\n",
      "Epoch [10000/50000], Loss: 0.5455\n",
      "Epoch [15000/50000], Loss: 0.5316\n",
      "Epoch [20000/50000], Loss: 0.5303\n",
      "Epoch [25000/50000], Loss: 0.5302\n",
      "Epoch [30000/50000], Loss: 0.5302\n",
      "Epoch [35000/50000], Loss: 0.5302\n",
      "Epoch [40000/50000], Loss: 0.5302\n",
      "Epoch [45000/50000], Loss: 0.5302\n",
      "Epoch [50000/50000], Loss: 0.5302\n"
     ]
    }
   ],
   "source": [
    "\n",
    "epochs = 50000\n",
    "for epoch in range(epochs):\n",
    "    # Forward pass\n",
    "    y_pred = my_linear_model(x)\n",
    "    loss = criterion(y_pred, y)\n",
    "#     print(x.shape)\n",
    "#     print(y.shape)\n",
    "#     print(y_pred)\n",
    "\n",
    "    # Backward pass and optimization\n",
    "    optimizer.zero_grad()\n",
    "    loss.backward()\n",
    "    optimizer.step()\n",
    "\n",
    "    if (epoch + 1) % 5000 == 0:\n",
    "        print(f'Epoch [{epoch + 1}/{epochs}], Loss: {loss.item():.4f}')"
   ]
  },
  {
   "cell_type": "code",
   "execution_count": 201,
   "id": "91667def",
   "metadata": {},
   "outputs": [
    {
     "name": "stdout",
     "output_type": "stream",
     "text": [
      "Test Results:\n",
      "Test Loss: 0.5302\n",
      "Sample Predictions:\n",
      "Predicted: [0.63913345], Actual: [0.5881754]\n",
      "Predicted: [0.53097534], Actual: [0.3511005]\n",
      "Predicted: [0.52297974], Actual: [0.5881754]\n",
      "Predicted: [0.6850815], Actual: [0.3511005]\n",
      "Predicted: [-0.92424774], Actual: [-1.3084236]\n"
     ]
    }
   ],
   "source": [
    "# Check on testing set\n",
    "\n",
    "x_test = x\n",
    "y_test = y\n",
    "\n",
    "\n",
    "\n",
    "\n",
    "# Ensure your model is in evaluation mode\n",
    "my_linear_model.eval()\n",
    "\n",
    "# Disable gradient computation for evaluation\n",
    "with torch.no_grad():\n",
    "    # Forward pass: Predict on the test set\n",
    "    y_test_pred = my_linear_model(x_test)\n",
    "    \n",
    "    # Calculate the loss on the test set\n",
    "    test_loss = criterion(y_test_pred, y_test)\n",
    "    \n",
    "    # Optional: Convert predictions to numpy for further analysis if needed\n",
    "    y_test_pred_np = y_test_pred.cpu().numpy() if y_test_pred.is_cuda else y_test_pred.numpy()\n",
    "    y_test_np = y_test.cpu().numpy() if y_test.is_cuda else y_test.numpy()\n",
    "    \n",
    "# Print the results\n",
    "print(\"Test Results:\")\n",
    "print(f\"Test Loss: {test_loss.item():.4f}\")\n",
    "print(\"Sample Predictions:\")\n",
    "for i in range(min(5, len(y_test_pred))):  # Display up to 5 predictions\n",
    "    print(f\"Predicted: {y_test_pred_np[i]}, Actual: {y_test_np[i]}\")"
   ]
  },
  {
   "cell_type": "code",
   "execution_count": 210,
   "id": "309a6e06",
   "metadata": {},
   "outputs": [
    {
     "name": "stdout",
     "output_type": "stream",
     "text": [
      "(289, 7)\n",
      "(289,)\n",
      "Weights (Scikit-Learn): [-7.2543617e+01  7.2017479e-01 -5.0861855e+00  1.7378299e+00\n",
      "  3.1543970e-01  1.8460864e+00  3.1191313e-10 -7.3627182e+01]\n",
      "Test Loss (Scikit-Learn): 0.530193\n"
     ]
    }
   ],
   "source": [
    "# Compare with Scikit Normal Equation Result\n",
    "\n",
    "import numpy as np\n",
    "from sklearn.linear_model import LinearRegression\n",
    "import torch\n",
    "\n",
    "# Assuming x and y are your training tensors\n",
    "x_np = x.numpy() if isinstance(x, torch.Tensor) else x\n",
    "y_np = y.numpy() if isinstance(y, torch.Tensor) else y\n",
    "y_np = y_np.reshape(-1) \n",
    "\n",
    "print(x_np.shape)\n",
    "print(y_np.shape)\n",
    "\n",
    "\n",
    "# Validate with Scikit-Learn\n",
    "lr = LinearRegression(fit_intercept=True)\n",
    "lr.fit(x_np, y_np)\n",
    "\n",
    "# Print Scikit-Learn weights for comparison\n",
    "print(\"Weights (Scikit-Learn):\", np.hstack([lr.intercept_, lr.coef_]))\n",
    "\n",
    "\n",
    "x_test_np = x_np\n",
    "y_test_np = y_np\n",
    "\n",
    "# Predict on the test set\n",
    "y_test_pred = lr.predict(x_test_np)\n",
    "\n",
    "# Compute Mean Squared Error (MSE) loss\n",
    "test_loss = np.mean((y_test_pred - y_test_np) ** 2)\n",
    "\n",
    "# Print the loss\n",
    "print(\"Test Loss (Scikit-Learn):\", test_loss)    # About the same loss: 0.53!"
   ]
  },
  {
   "cell_type": "code",
   "execution_count": null,
   "id": "e9433191",
   "metadata": {},
   "outputs": [],
   "source": []
  }
 ],
 "metadata": {
  "kernelspec": {
   "display_name": "Python (smol)",
   "language": "python",
   "name": "smol"
  },
  "language_info": {
   "codemirror_mode": {
    "name": "ipython",
    "version": 3
   },
   "file_extension": ".py",
   "mimetype": "text/x-python",
   "name": "python",
   "nbconvert_exporter": "python",
   "pygments_lexer": "ipython3",
   "version": "3.12.3"
  }
 },
 "nbformat": 4,
 "nbformat_minor": 5
}
